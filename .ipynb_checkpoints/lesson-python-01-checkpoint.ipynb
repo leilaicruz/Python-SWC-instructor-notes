{
 "cells": [
  {
   "cell_type": "markdown",
   "id": "abddfecf-0426-4724-9e3d-b6d37513bd9e",
   "metadata": {
    "tags": []
   },
   "source": [
    "# Episode 1 : Variables "
   ]
  },
  {
   "cell_type": "code",
   "execution_count": 2,
   "id": "2cac99ef-0e80-4140-a065-c7e482dc7cac",
   "metadata": {
    "tags": []
   },
   "outputs": [
    {
     "data": {
      "text/plain": [
       "23"
      ]
     },
     "execution_count": 2,
     "metadata": {},
     "output_type": "execute_result"
    }
   ],
   "source": [
    "3+5*4"
   ]
  },
  {
   "cell_type": "code",
   "execution_count": 3,
   "id": "dfaf0c2d-9d67-4132-8e68-5231611802b5",
   "metadata": {
    "tags": []
   },
   "outputs": [],
   "source": [
    "weight_kg=60"
   ]
  },
  {
   "cell_type": "code",
   "execution_count": 5,
   "id": "55a235a8-2172-478b-84bf-879e174a3c18",
   "metadata": {
    "tags": []
   },
   "outputs": [
    {
     "ename": "SyntaxError",
     "evalue": "invalid decimal literal (1058816760.py, line 1)",
     "output_type": "error",
     "traceback": [
      "\u001b[1;36m  Cell \u001b[1;32mIn[5], line 1\u001b[1;36m\u001b[0m\n\u001b[1;33m    0weight_kg\u001b[0m\n\u001b[1;37m    ^\u001b[0m\n\u001b[1;31mSyntaxError\u001b[0m\u001b[1;31m:\u001b[0m invalid decimal literal\n"
     ]
    }
   ],
   "source": [
    "0weight_kg"
   ]
  },
  {
   "cell_type": "code",
   "execution_count": 6,
   "id": "7e282960-e5e4-4fdb-a274-69e64de8448f",
   "metadata": {
    "tags": []
   },
   "outputs": [],
   "source": [
    "weight_kg_50=100"
   ]
  },
  {
   "cell_type": "code",
   "execution_count": 9,
   "id": "eef8a010-33ff-40a0-9735-9575e89d72f5",
   "metadata": {
    "tags": []
   },
   "outputs": [
    {
     "data": {
      "text/plain": [
       "int"
      ]
     },
     "execution_count": 9,
     "metadata": {},
     "output_type": "execute_result"
    }
   ],
   "source": [
    "type(weight_kg)"
   ]
  },
  {
   "cell_type": "code",
   "execution_count": 10,
   "id": "83c8483e-c367-4577-b384-9f091d234c8a",
   "metadata": {
    "tags": []
   },
   "outputs": [],
   "source": [
    "weight_kg=60.3"
   ]
  },
  {
   "cell_type": "code",
   "execution_count": 11,
   "id": "43781981-c834-4be0-8646-abe02cfc2feb",
   "metadata": {
    "tags": []
   },
   "outputs": [
    {
     "data": {
      "text/plain": [
       "float"
      ]
     },
     "execution_count": 11,
     "metadata": {},
     "output_type": "execute_result"
    }
   ],
   "source": [
    "type(weight_kg)"
   ]
  },
  {
   "cell_type": "code",
   "execution_count": 12,
   "id": "7d29c899-c26f-4d2d-bb9d-e7ee6ca57139",
   "metadata": {
    "tags": []
   },
   "outputs": [],
   "source": [
    "patient_id=\"001\""
   ]
  },
  {
   "cell_type": "code",
   "execution_count": 14,
   "id": "ed714123-70d2-4912-b4d6-8d81f817ee9c",
   "metadata": {
    "tags": []
   },
   "outputs": [
    {
     "data": {
      "text/plain": [
       "str"
      ]
     },
     "execution_count": 14,
     "metadata": {},
     "output_type": "execute_result"
    }
   ],
   "source": [
    "type(patient_id)"
   ]
  },
  {
   "cell_type": "code",
   "execution_count": 15,
   "id": "1a362ed5-fa13-46b7-bb4e-ee1f4c3d1113",
   "metadata": {
    "tags": []
   },
   "outputs": [],
   "source": [
    "weight_lb=2.2*weight_kg "
   ]
  },
  {
   "cell_type": "code",
   "execution_count": 17,
   "id": "1c90b789-d184-485f-94a9-920c84bd0b8e",
   "metadata": {
    "tags": []
   },
   "outputs": [
    {
     "data": {
      "text/plain": [
       "132.66"
      ]
     },
     "execution_count": 17,
     "metadata": {},
     "output_type": "execute_result"
    }
   ],
   "source": [
    "weight_lb"
   ]
  },
  {
   "cell_type": "code",
   "execution_count": 16,
   "id": "b1b31f85-3b5a-42ce-8749-1d0aeed8b62c",
   "metadata": {
    "tags": []
   },
   "outputs": [],
   "source": [
    "patient_id=\"inflam_\"+patient_id"
   ]
  },
  {
   "cell_type": "code",
   "execution_count": 19,
   "id": "6c9102c7-9e74-41dc-8cbf-f1b1320814e0",
   "metadata": {
    "tags": []
   },
   "outputs": [
    {
     "data": {
      "text/plain": [
       "'inflam_001'"
      ]
     },
     "execution_count": 19,
     "metadata": {},
     "output_type": "execute_result"
    }
   ],
   "source": [
    "patient_id"
   ]
  },
  {
   "cell_type": "code",
   "execution_count": 20,
   "id": "f11a3998-dbe5-4e46-9f35-5c223e5e4393",
   "metadata": {
    "tags": []
   },
   "outputs": [
    {
     "name": "stdout",
     "output_type": "stream",
     "text": [
      "132.66\n"
     ]
    }
   ],
   "source": [
    "### built-in functions\n",
    "\n",
    "print(weight_lb)"
   ]
  },
  {
   "cell_type": "code",
   "execution_count": 21,
   "id": "d625d840-ca33-4875-867b-332461d918cf",
   "metadata": {
    "tags": []
   },
   "outputs": [
    {
     "name": "stdout",
     "output_type": "stream",
     "text": [
      "inflam_001\n"
     ]
    }
   ],
   "source": [
    "print(patient_id)"
   ]
  },
  {
   "cell_type": "code",
   "execution_count": 22,
   "id": "0bcf69c6-5af3-4c3c-a959-9583e4770b02",
   "metadata": {
    "tags": []
   },
   "outputs": [
    {
     "name": "stdout",
     "output_type": "stream",
     "text": [
      "inflam_001 weight in kilograms: 60.3\n"
     ]
    }
   ],
   "source": [
    "print(patient_id,\"weight in kilograms:\",weight_kg)"
   ]
  },
  {
   "cell_type": "code",
   "execution_count": 25,
   "id": "1393d010-1eb1-4b85-8c9d-947bbe7c6cc1",
   "metadata": {
    "tags": []
   },
   "outputs": [
    {
     "name": "stdout",
     "output_type": "stream",
     "text": [
      "<class 'str'> <class 'float'>\n"
     ]
    }
   ],
   "source": [
    "print(type(patient_id),type(weight_kg)) # display type of variables "
   ]
  },
  {
   "cell_type": "markdown",
   "id": "9c0acdd9-4067-4908-935b-45b4ee958503",
   "metadata": {},
   "source": [
    "# Episode 2 : Lists "
   ]
  },
  {
   "cell_type": "code",
   "execution_count": 26,
   "id": "488135e2-46ba-4032-a841-13dbda7bb251",
   "metadata": {
    "tags": []
   },
   "outputs": [],
   "source": [
    "odds=[1,3,5,7]"
   ]
  },
  {
   "cell_type": "code",
   "execution_count": 28,
   "id": "b51d5f92-6464-43ac-a00d-2fb90bcbf0b8",
   "metadata": {
    "tags": []
   },
   "outputs": [
    {
     "data": {
      "text/plain": [
       "1"
      ]
     },
     "execution_count": 28,
     "metadata": {},
     "output_type": "execute_result"
    }
   ],
   "source": [
    "odds[0]# the first element of the list"
   ]
  },
  {
   "cell_type": "code",
   "execution_count": 29,
   "id": "cdcc939e-6291-47d0-bfc5-3d959e749cdc",
   "metadata": {
    "tags": []
   },
   "outputs": [
    {
     "data": {
      "text/plain": [
       "5"
      ]
     },
     "execution_count": 29,
     "metadata": {},
     "output_type": "execute_result"
    }
   ],
   "source": [
    "odds[2]# the third element of the list\n"
   ]
  },
  {
   "cell_type": "code",
   "execution_count": 38,
   "id": "8a80113e-06fd-4bd7-98b4-fc897215f345",
   "metadata": {
    "tags": []
   },
   "outputs": [
    {
     "data": {
      "text/plain": [
       "[5, 7]"
      ]
     },
     "execution_count": 38,
     "metadata": {},
     "output_type": "execute_result"
    }
   ],
   "source": [
    "odds[-2:]"
   ]
  },
  {
   "cell_type": "code",
   "execution_count": 39,
   "id": "80dbfc61-f7e7-41da-88f6-7e39d3272ae3",
   "metadata": {
    "tags": []
   },
   "outputs": [],
   "source": [
    "veg=[[\"lettuce\",\"tomato\",\"peppers\"],[\"cucumber\"],[\"cilantro\",\"zucchini\"]]"
   ]
  },
  {
   "cell_type": "code",
   "execution_count": 44,
   "id": "ffcd047d-adc2-4ab1-9eb0-16b3fa19ac8c",
   "metadata": {
    "tags": []
   },
   "outputs": [
    {
     "data": {
      "text/plain": [
       "[['cucumber'], ['cilantro', 'zucchini']]"
      ]
     },
     "execution_count": 44,
     "metadata": {},
     "output_type": "execute_result"
    }
   ],
   "source": [
    "veg[-2:]"
   ]
  },
  {
   "cell_type": "code",
   "execution_count": 45,
   "id": "193e4140-1006-4f3f-80d2-50e2c8e41143",
   "metadata": {
    "tags": []
   },
   "outputs": [],
   "source": [
    "names=[\"Curie\",\"Darwing\",\"Turing\"]"
   ]
  },
  {
   "cell_type": "code",
   "execution_count": 46,
   "id": "84cc8b33-1572-4dfa-9390-c5d9e94a397f",
   "metadata": {
    "tags": []
   },
   "outputs": [
    {
     "name": "stdout",
     "output_type": "stream",
     "text": [
      "names are originally ['Curie', 'Darwing', 'Turing']\n"
     ]
    }
   ],
   "source": [
    "print(\"names are originally\",names)"
   ]
  },
  {
   "cell_type": "code",
   "execution_count": 47,
   "id": "91381ca5-c2d5-493d-91e3-1491b84df2b5",
   "metadata": {
    "tags": []
   },
   "outputs": [],
   "source": [
    "names[1]=\"Darwin\""
   ]
  },
  {
   "cell_type": "code",
   "execution_count": 48,
   "id": "582a250c-cdad-4c4e-a901-66976f92e317",
   "metadata": {
    "tags": []
   },
   "outputs": [
    {
     "name": "stdout",
     "output_type": "stream",
     "text": [
      "final values of names ['Curie', 'Darwin', 'Turing']\n"
     ]
    }
   ],
   "source": [
    "print(\"final values of names\",names)"
   ]
  },
  {
   "cell_type": "code",
   "execution_count": 49,
   "id": "2a1af7e7-2b2e-4f06-8294-1b48ae39d81f",
   "metadata": {
    "tags": []
   },
   "outputs": [
    {
     "ename": "TypeError",
     "evalue": "'str' object does not support item assignment",
     "output_type": "error",
     "traceback": [
      "\u001b[1;31m---------------------------------------------------------------------------\u001b[0m",
      "\u001b[1;31mTypeError\u001b[0m                                 Traceback (most recent call last)",
      "Cell \u001b[1;32mIn[49], line 2\u001b[0m\n\u001b[0;32m      1\u001b[0m name\u001b[38;5;241m=\u001b[39m\u001b[38;5;124m\"\u001b[39m\u001b[38;5;124mDarwin\u001b[39m\u001b[38;5;124m\"\u001b[39m\n\u001b[1;32m----> 2\u001b[0m name[\u001b[38;5;241m0\u001b[39m]\u001b[38;5;241m=\u001b[39m\u001b[38;5;124m\"\u001b[39m\u001b[38;5;124md\u001b[39m\u001b[38;5;124m\"\u001b[39m\n",
      "\u001b[1;31mTypeError\u001b[0m: 'str' object does not support item assignment"
     ]
    }
   ],
   "source": [
    "name=\"Darwin\"\n",
    "name[0]=\"d\""
   ]
  },
  {
   "cell_type": "code",
   "execution_count": 51,
   "id": "5f48f4e6-c0bc-47b5-99f6-9e1d3bf77641",
   "metadata": {
    "tags": []
   },
   "outputs": [
    {
     "name": "stdout",
     "output_type": "stream",
     "text": [
      "odds after adding a value [1, 3, 5, 7, 9]\n"
     ]
    }
   ],
   "source": [
    "odds.append(9)\n",
    "print(\"odds after adding a value\",odds)"
   ]
  },
  {
   "cell_type": "code",
   "execution_count": 53,
   "id": "2f0ff99a-0842-426d-821e-6fb2f7bea085",
   "metadata": {
    "tags": []
   },
   "outputs": [
    {
     "name": "stdout",
     "output_type": "stream",
     "text": [
      "odds after removing an element [3, 5, 7, 9]\n",
      "removed_element 1\n"
     ]
    }
   ],
   "source": [
    "removed_element=odds.pop(0)\n",
    "print(\"odds after removing an element\",odds)\n",
    "print(\"removed_element\",removed_element)"
   ]
  },
  {
   "cell_type": "markdown",
   "id": "ea20cc48-9d01-4fea-aed1-5906aba1e10c",
   "metadata": {},
   "source": [
    "# Episode 3 : Analyze data "
   ]
  },
  {
   "cell_type": "code",
   "execution_count": 54,
   "id": "c64b4a23-770e-49ec-b81f-d5ab73e09078",
   "metadata": {
    "tags": []
   },
   "outputs": [],
   "source": [
    "import numpy"
   ]
  },
  {
   "cell_type": "code",
   "execution_count": 56,
   "id": "3c4a22cb-efb9-42b7-9fad-b5913d5024aa",
   "metadata": {
    "tags": []
   },
   "outputs": [
    {
     "data": {
      "text/plain": [
       "array([[0., 0., 1., ..., 3., 0., 0.],\n",
       "       [0., 1., 2., ..., 1., 0., 1.],\n",
       "       [0., 1., 1., ..., 2., 1., 1.],\n",
       "       ...,\n",
       "       [0., 1., 1., ..., 1., 1., 1.],\n",
       "       [0., 0., 0., ..., 0., 2., 0.],\n",
       "       [0., 0., 1., ..., 1., 1., 0.]])"
      ]
     },
     "execution_count": 56,
     "metadata": {},
     "output_type": "execute_result"
    }
   ],
   "source": [
    "numpy.loadtxt(fname=\"data/inflammation-01.csv\",delimiter=\",\")"
   ]
  },
  {
   "cell_type": "code",
   "execution_count": 57,
   "id": "5b6e6e3b-45c4-4b9d-b3b5-f3ec91f811f3",
   "metadata": {
    "tags": []
   },
   "outputs": [],
   "source": [
    "data=numpy.loadtxt(fname=\"data/inflammation-01.csv\",delimiter=\",\")"
   ]
  },
  {
   "cell_type": "code",
   "execution_count": 58,
   "id": "3e54828e-71e6-403b-a520-6c6c358ca225",
   "metadata": {
    "tags": []
   },
   "outputs": [
    {
     "data": {
      "text/plain": [
       "numpy.ndarray"
      ]
     },
     "execution_count": 58,
     "metadata": {},
     "output_type": "execute_result"
    }
   ],
   "source": [
    "type(data)"
   ]
  },
  {
   "cell_type": "code",
   "execution_count": 59,
   "id": "b128d13b-ba6c-4038-9839-34ac206f8d41",
   "metadata": {
    "tags": []
   },
   "outputs": [
    {
     "data": {
      "text/plain": [
       "(60, 40)"
      ]
     },
     "execution_count": 59,
     "metadata": {},
     "output_type": "execute_result"
    }
   ],
   "source": [
    "data.shape"
   ]
  },
  {
   "cell_type": "code",
   "execution_count": 60,
   "id": "44bdccbe-2fb9-43b4-8134-c2d1e5a7a2cb",
   "metadata": {
    "tags": []
   },
   "outputs": [
    {
     "name": "stdout",
     "output_type": "stream",
     "text": [
      "the first value in data 0.0\n"
     ]
    }
   ],
   "source": [
    "print(\"the first value in data\",data[0,0])"
   ]
  },
  {
   "cell_type": "code",
   "execution_count": 63,
   "id": "b7264fbe-8b36-4999-953c-e2b0b33aca73",
   "metadata": {
    "tags": []
   },
   "outputs": [
    {
     "data": {
      "text/plain": [
       "array([[0., 0., 1., 3., 1., 2., 4., 7., 8., 3.],\n",
       "       [0., 1., 2., 1., 2., 1., 3., 2., 2., 6.],\n",
       "       [0., 1., 1., 3., 3., 2., 6., 2., 5., 9.],\n",
       "       [0., 0., 2., 0., 4., 2., 2., 1., 6., 7.]])"
      ]
     },
     "execution_count": 63,
     "metadata": {},
     "output_type": "execute_result"
    }
   ],
   "source": [
    "data[0:4,0:10]"
   ]
  },
  {
   "cell_type": "code",
   "execution_count": 65,
   "id": "7ba2fd6d-2bbf-4f6e-a524-483746ddee13",
   "metadata": {
    "tags": []
   },
   "outputs": [
    {
     "data": {
      "text/plain": [
       "array([[0., 0., 1., 3., 1., 2., 4., 7., 8., 3.],\n",
       "       [0., 1., 2., 1., 2., 1., 3., 2., 2., 6.],\n",
       "       [0., 1., 1., 3., 3., 2., 6., 2., 5., 9.],\n",
       "       [0., 0., 2., 0., 4., 2., 2., 1., 6., 7.]])"
      ]
     },
     "execution_count": 65,
     "metadata": {},
     "output_type": "execute_result"
    }
   ],
   "source": [
    "data[:4,:10]"
   ]
  },
  {
   "cell_type": "code",
   "execution_count": 66,
   "id": "4dbe3034-3150-42ec-85d8-85df6fc7eae9",
   "metadata": {
    "tags": []
   },
   "outputs": [
    {
     "data": {
      "text/plain": [
       "array([[2., 3., 0., 0.],\n",
       "       [1., 1., 0., 1.],\n",
       "       [2., 2., 1., 1.]])"
      ]
     },
     "execution_count": 66,
     "metadata": {},
     "output_type": "execute_result"
    }
   ],
   "source": [
    "data[:3,36:]"
   ]
  },
  {
   "cell_type": "code",
   "execution_count": 67,
   "id": "b5ac543b-30c6-4b17-b885-fb4edf5f5c88",
   "metadata": {
    "tags": []
   },
   "outputs": [
    {
     "name": "stdout",
     "output_type": "stream",
     "text": [
      "The mean of data 6.14875\n"
     ]
    }
   ],
   "source": [
    "print(\"The mean of data\",numpy.mean(data))"
   ]
  },
  {
   "cell_type": "code",
   "execution_count": 68,
   "id": "dccd3d1c-3c3e-463f-8c00-a0ce1dc7c248",
   "metadata": {
    "tags": []
   },
   "outputs": [],
   "source": [
    "maxval,minval,stdval=numpy.amax(data),numpy.amin(data),numpy.std(data)"
   ]
  },
  {
   "cell_type": "code",
   "execution_count": 70,
   "id": "ea9a0dc3-dc58-4196-84d3-0d374e230f36",
   "metadata": {
    "tags": []
   },
   "outputs": [
    {
     "name": "stdout",
     "output_type": "stream",
     "text": [
      "maximum inflammation 20.0\n",
      "minimum inflammation 0.0\n",
      "standard deviation 4.613833197118566\n"
     ]
    }
   ],
   "source": [
    "print(\"maximum inflammation\",maxval)\n",
    "print(\"minimum inflammation\",minval)\n",
    "print(\"standard deviation\",stdval)"
   ]
  },
  {
   "cell_type": "code",
   "execution_count": 72,
   "id": "26f419ce-4c88-4087-b4b2-72ca1fd0662e",
   "metadata": {
    "tags": []
   },
   "outputs": [
    {
     "name": "stdout",
     "output_type": "stream",
     "text": [
      "the maximum inflammation for patient 0: 18.0\n"
     ]
    }
   ],
   "source": [
    "patient_0=data[0,:]\n",
    "print(\"the maximum inflammation for patient 0:\",numpy.amax(patient_0))"
   ]
  },
  {
   "cell_type": "code",
   "execution_count": 75,
   "id": "b833d769-9ffd-404d-aedd-cd909ef0289a",
   "metadata": {
    "tags": []
   },
   "outputs": [],
   "source": [
    "mean_per_day=numpy.mean(data,axis=0)"
   ]
  },
  {
   "cell_type": "code",
   "execution_count": 76,
   "id": "fa78b052-3286-47e4-a2be-64119603a5e7",
   "metadata": {
    "tags": []
   },
   "outputs": [
    {
     "data": {
      "text/plain": [
       "(40,)"
      ]
     },
     "execution_count": 76,
     "metadata": {},
     "output_type": "execute_result"
    }
   ],
   "source": [
    "mean_per_day.shape"
   ]
  },
  {
   "cell_type": "code",
   "execution_count": 77,
   "id": "f88aad70-85cc-4386-9c87-8d7ddfa232f0",
   "metadata": {
    "tags": []
   },
   "outputs": [
    {
     "data": {
      "text/plain": [
       "(60,)"
      ]
     },
     "execution_count": 77,
     "metadata": {},
     "output_type": "execute_result"
    }
   ],
   "source": [
    "mean_per_patient=numpy.mean(data,axis=1)\n",
    "mean_per_patient.shape"
   ]
  }
 ],
 "metadata": {
  "kernelspec": {
   "display_name": "Python 3 (ipykernel)",
   "language": "python",
   "name": "python3"
  },
  "language_info": {
   "codemirror_mode": {
    "name": "ipython",
    "version": 3
   },
   "file_extension": ".py",
   "mimetype": "text/x-python",
   "name": "python",
   "nbconvert_exporter": "python",
   "pygments_lexer": "ipython3",
   "version": "3.11.5"
  }
 },
 "nbformat": 4,
 "nbformat_minor": 5
}
